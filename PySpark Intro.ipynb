{
 "cells": [
  {
   "cell_type": "markdown",
   "metadata": {
    "slideshow": {
     "slide_type": "slide"
    }
   },
   "source": [
    "# PySpark 101\n",
    "\n",
    "### An introduction to distributed computing\n",
    "\n",
    "October 2020"
   ]
  },
  {
   "cell_type": "markdown",
   "metadata": {
    "slideshow": {
     "slide_type": "slide"
    }
   },
   "source": [
    "### Installing PySpark\n",
    "\n",
    "Steps for Windows:\n",
    "1. Make sure you have java with `java -version`\n",
    "2. Make sure you have Python with `python --version`\n",
    "3. Download Spark from http://spark.apache.org/downloads.html\n",
    "4. Unzip files with tar xvzf spark-3.0.0-bin-hadoop2.7.tgz\n",
    "5. Set environment varibles with (you need to be running as admin):\n",
    "    - setx SPARK_HOME \"%USERPROFILE%\\Documents\\spark\\spark-3.0.0-bin-hadoop2.7\" /M\n",
    "    - setx HADOOP_HOME \"%USERPROFILE%\\Documents\\spark\\spark-3.0.0-bin-hadoop2.7\" /M"
   ]
  },
  {
   "cell_type": "markdown",
   "metadata": {
    "slideshow": {
     "slide_type": "slide"
    }
   },
   "source": [
    "### Distributed Computing\n",
    "For processing vast volumes of data fast, we need to **scale out** instead of **scale up**.  "
   ]
  },
  {
   "cell_type": "markdown",
   "metadata": {
    "slideshow": {
     "slide_type": "fragment"
    }
   },
   "source": [
    "- **Cheaper**: Run large data on clusters of many nodes (i.e. smaller and cheaper machines.)"
   ]
  },
  {
   "cell_type": "markdown",
   "metadata": {
    "slideshow": {
     "slide_type": "fragment"
    }
   },
   "source": [
    "- **Faster**: It parallelizes and distributes computations."
   ]
  },
  {
   "cell_type": "markdown",
   "metadata": {
    "slideshow": {
     "slide_type": "fragment"
    }
   },
   "source": [
    "- **Reliable**: If one node or process fails, its workload is assumed by other components in the system. (Also known as fault tolerance)."
   ]
  },
  {
   "cell_type": "markdown",
   "metadata": {
    "slideshow": {
     "slide_type": "slide"
    }
   },
   "source": [
    "### Spark Apache\n",
    "Open-source distributed cluster-computing framework. It extends the MapReduce model using RDDs (Resilient Distributed Datasets).\n",
    "\n",
    "Available in Java, Scala, Python, R. (PySpark is the Python distribution.)\n",
    "\n",
    "**Key Components:**"
   ]
  },
  {
   "cell_type": "markdown",
   "metadata": {
    "slideshow": {
     "slide_type": "fragment"
    }
   },
   "source": [
    "- **Distribution**: Distribute the data"
   ]
  },
  {
   "cell_type": "markdown",
   "metadata": {
    "slideshow": {
     "slide_type": "fragment"
    }
   },
   "source": [
    "- **Parallelism**: Perform subsets of the computation simultaneously"
   ]
  },
  {
   "cell_type": "markdown",
   "metadata": {
    "slideshow": {
     "slide_type": "fragment"
    }
   },
   "source": [
    "- **Fault tolerance**: Handle component failure"
   ]
  },
  {
   "cell_type": "markdown",
   "metadata": {
    "slideshow": {
     "slide_type": "slide"
    }
   },
   "source": [
    "# Part 1: MapReduce"
   ]
  },
  {
   "cell_type": "markdown",
   "metadata": {
    "slideshow": {
     "slide_type": "slide"
    }
   },
   "source": [
    "### MapReduce\n",
    "Let’s remember that MapReduce is a programming model for processing big data sets with a parallel, distributed algorithm on a cluster. \n",
    "\n",
    "- **Map procedure**: Applies a function to each data point over a partition in parallel. \n",
    "Examples: `filter()`, `map()`\n",
    "- **Reduce procedure**: Summary operation that returns one value from multiple values\n",
    "Examples: `reduce()`, `sum()`, `count()`"
   ]
  },
  {
   "cell_type": "markdown",
   "metadata": {
    "slideshow": {
     "slide_type": "slide"
    }
   },
   "source": [
    "<img src='img/example.png'>"
   ]
  },
  {
   "cell_type": "code",
   "execution_count": 2,
   "metadata": {
    "slideshow": {
     "slide_type": "notes"
    }
   },
   "outputs": [
    {
     "ename": "ModuleNotFoundError",
     "evalue": "No module named 'findspark'",
     "output_type": "error",
     "traceback": [
      "\u001b[0;31m---------------------------------------------------------------------------\u001b[0m",
      "\u001b[0;31mModuleNotFoundError\u001b[0m                       Traceback (most recent call last)",
      "\u001b[0;32m<ipython-input-2-e3988613a3da>\u001b[0m in \u001b[0;36m<module>\u001b[0;34m\u001b[0m\n\u001b[1;32m      1\u001b[0m \u001b[0;31m# It helps you find spark\u001b[0m\u001b[0;34m\u001b[0m\u001b[0;34m\u001b[0m\u001b[0;34m\u001b[0m\u001b[0m\n\u001b[0;32m----> 2\u001b[0;31m \u001b[0;32mimport\u001b[0m \u001b[0mfindspark\u001b[0m\u001b[0;34m\u001b[0m\u001b[0;34m\u001b[0m\u001b[0m\n\u001b[0m\u001b[1;32m      3\u001b[0m \u001b[0mfindspark\u001b[0m\u001b[0;34m.\u001b[0m\u001b[0minit\u001b[0m\u001b[0;34m(\u001b[0m\u001b[0;34m)\u001b[0m\u001b[0;34m\u001b[0m\u001b[0;34m\u001b[0m\u001b[0m\n",
      "\u001b[0;31mModuleNotFoundError\u001b[0m: No module named 'findspark'"
     ]
    }
   ],
   "source": [
    "# It helps you find spark\n",
    "import findspark\n",
    "findspark.init()"
   ]
  },
  {
   "cell_type": "code",
   "execution_count": 3,
   "metadata": {
    "slideshow": {
     "slide_type": "slide"
    }
   },
   "outputs": [],
   "source": [
    "from pyspark import SparkContext\n",
    "from pyspark.sql import SparkSession"
   ]
  },
  {
   "cell_type": "code",
   "execution_count": 4,
   "metadata": {
    "slideshow": {
     "slide_type": "fragment"
    }
   },
   "outputs": [],
   "source": [
    "sc = SparkContext() \n",
    "ss = SparkSession.builder.getOrCreate()\n",
    "\n",
    "ss.catalog.clearCache()\n",
    "sc.setLogLevel(\"OFF\")"
   ]
  },
  {
   "cell_type": "code",
   "execution_count": 5,
   "metadata": {
    "slideshow": {
     "slide_type": "fragment"
    }
   },
   "outputs": [
    {
     "data": {
      "text/html": [
       "\n",
       "        <div>\n",
       "            <p><b>SparkContext</b></p>\n",
       "\n",
       "            <p><a href=\"http://ip-172-16-91-108.us-west-2.compute.internal:4040\">Spark UI</a></p>\n",
       "\n",
       "            <dl>\n",
       "              <dt>Version</dt>\n",
       "                <dd><code>v2.3.4</code></dd>\n",
       "              <dt>Master</dt>\n",
       "                <dd><code>local[*]</code></dd>\n",
       "              <dt>AppName</dt>\n",
       "                <dd><code>pyspark-shell</code></dd>\n",
       "            </dl>\n",
       "        </div>\n",
       "        "
      ],
      "text/plain": [
       "<SparkContext master=local[*] appName=pyspark-shell>"
      ]
     },
     "execution_count": 5,
     "metadata": {},
     "output_type": "execute_result"
    }
   ],
   "source": [
    "sc"
   ]
  },
  {
   "cell_type": "code",
   "execution_count": 6,
   "metadata": {
    "slideshow": {
     "slide_type": "slide"
    }
   },
   "outputs": [],
   "source": [
    "# Read data as an RDD\n",
    "rdd = sc.textFile(\"data/numbers.txt\", 8) # Number of cores"
   ]
  },
  {
   "cell_type": "code",
   "execution_count": 7,
   "metadata": {
    "slideshow": {
     "slide_type": "fragment"
    }
   },
   "outputs": [
    {
     "data": {
      "text/plain": [
       "[['4', '0', '3', '6', '8', '7', '9', '9', '8', '5', '6', '5', '6'],\n",
       " ['3', '6', '5', '1', '8', '8', '1', '5', '4', '1', '5', '8', '2'],\n",
       " ['6', '8', '8', '3', '9', '9', '0', '7', '3', '6', '0', '6'],\n",
       " ['0', '5', '9', '0', '9', '5', '9', '2', '5', '4', '8', '6', '8'],\n",
       " ['5', '1', '4', '7', '4', '0', '1', '9', '5', '3', '1', '1'],\n",
       " ['0', '0', '9', '3', '0', '5', '4', '0', '8', '0', '1', '8', '5'],\n",
       " ['7', '2', '1', '9', '3', '4', '2', '0', '2', '8', '1', '0'],\n",
       " ['0', '8', '4', '1', '0', '0', '7', '3', '8', '3', '7', '3']]"
      ]
     },
     "execution_count": 7,
     "metadata": {},
     "output_type": "execute_result"
    }
   ],
   "source": [
    "# See data on the computer\n",
    "rdd.glom().collect()"
   ]
  },
  {
   "cell_type": "markdown",
   "metadata": {
    "slideshow": {
     "slide_type": "notes"
    }
   },
   "source": [
    "Logical cores = (# of physical cores) x (# of threads that can run on each core)\n",
    "\n",
    "`sysctl -n hw.ncpu`\n",
    "\n",
    "`rdd.getNumPartitions()`"
   ]
  },
  {
   "cell_type": "code",
   "execution_count": 8,
   "metadata": {
    "slideshow": {
     "slide_type": "notes"
    }
   },
   "outputs": [],
   "source": [
    "# A note about lambda functions\n",
    "\n",
    "def add_2(x):\n",
    "    return x+2\n",
    "\n",
    "add_2_lambda = lambda x: x+2\n",
    "\n",
    "assert add_2(3) == add_2_lambda(3)"
   ]
  },
  {
   "cell_type": "markdown",
   "metadata": {
    "slideshow": {
     "slide_type": "slide"
    }
   },
   "source": [
    "#### Now let's convert data to integers"
   ]
  },
  {
   "cell_type": "code",
   "execution_count": 9,
   "metadata": {
    "slideshow": {
     "slide_type": "fragment"
    }
   },
   "outputs": [
    {
     "data": {
      "text/plain": [
       "[[4, 0, 3, 6, 8, 7, 9, 9, 8, 5, 6, 5, 6],\n",
       " [3, 6, 5, 1, 8, 8, 1, 5, 4, 1, 5, 8, 2],\n",
       " [6, 8, 8, 3, 9, 9, 0, 7, 3, 6, 0, 6],\n",
       " [0, 5, 9, 0, 9, 5, 9, 2, 5, 4, 8, 6, 8],\n",
       " [5, 1, 4, 7, 4, 0, 1, 9, 5, 3, 1, 1],\n",
       " [0, 0, 9, 3, 0, 5, 4, 0, 8, 0, 1, 8, 5],\n",
       " [7, 2, 1, 9, 3, 4, 2, 0, 2, 8, 1, 0],\n",
       " [0, 8, 4, 1, 0, 0, 7, 3, 8, 3, 7, 3]]"
      ]
     },
     "execution_count": 9,
     "metadata": {},
     "output_type": "execute_result"
    }
   ],
   "source": [
    "# Example of a map function\n",
    "converted_rdd = rdd.map(lambda x: int(x))\n",
    "converted_rdd.glom().collect()"
   ]
  },
  {
   "cell_type": "markdown",
   "metadata": {
    "slideshow": {
     "slide_type": "slide"
    }
   },
   "source": [
    "<img src='img/string2int.png'>"
   ]
  },
  {
   "cell_type": "markdown",
   "metadata": {
    "slideshow": {
     "slide_type": "slide"
    }
   },
   "source": [
    "#### Now let's filter to get numbers greater or equal to 8"
   ]
  },
  {
   "cell_type": "code",
   "execution_count": 10,
   "metadata": {
    "slideshow": {
     "slide_type": "fragment"
    }
   },
   "outputs": [
    {
     "data": {
      "text/plain": [
       "[[8, 9, 9, 8],\n",
       " [8, 8, 8],\n",
       " [8, 8, 9, 9],\n",
       " [9, 9, 9, 8, 8],\n",
       " [9],\n",
       " [9, 8, 8],\n",
       " [9, 8],\n",
       " [8, 8]]"
      ]
     },
     "execution_count": 10,
     "metadata": {},
     "output_type": "execute_result"
    }
   ],
   "source": [
    "# Example of another map function\n",
    "filtered_rdd = converted_rdd.filter(lambda x: x >= 8)\n",
    "filtered_rdd.glom().collect()"
   ]
  },
  {
   "cell_type": "markdown",
   "metadata": {
    "slideshow": {
     "slide_type": "slide"
    }
   },
   "source": [
    "<img src='img/greater8.png'>"
   ]
  },
  {
   "cell_type": "markdown",
   "metadata": {
    "slideshow": {
     "slide_type": "slide"
    }
   },
   "source": [
    "#### Now let's add numbers"
   ]
  },
  {
   "cell_type": "code",
   "execution_count": 11,
   "metadata": {
    "slideshow": {
     "slide_type": "fragment"
    }
   },
   "outputs": [
    {
     "data": {
      "text/plain": [
       "202"
      ]
     },
     "execution_count": 11,
     "metadata": {},
     "output_type": "execute_result"
    }
   ],
   "source": [
    "# Example of a reduce function\n",
    "filtered_rdd.reduce(lambda x, y: x+y)"
   ]
  },
  {
   "cell_type": "markdown",
   "metadata": {
    "slideshow": {
     "slide_type": "fragment"
    }
   },
   "source": [
    "**What's happening?** The rdd is adding two numbers in the same partition until there is only one number left. Then it adds two numbers in different partitions until there is only one numebr left (shuffling happens)."
   ]
  },
  {
   "cell_type": "code",
   "execution_count": 12,
   "metadata": {
    "slideshow": {
     "slide_type": "fragment"
    }
   },
   "outputs": [
    {
     "data": {
      "text/plain": [
       "100"
      ]
     },
     "execution_count": 12,
     "metadata": {},
     "output_type": "execute_result"
    }
   ],
   "source": [
    "# Example of another reduce function\n",
    "rdd.count()"
   ]
  },
  {
   "cell_type": "markdown",
   "metadata": {
    "slideshow": {
     "slide_type": "slide"
    }
   },
   "source": [
    "#### Part 1: MapReduce -- Summary\n",
    "Sum of integers that are greater than or equal to 8"
   ]
  },
  {
   "cell_type": "code",
   "execution_count": 13,
   "metadata": {
    "slideshow": {
     "slide_type": "fragment"
    }
   },
   "outputs": [
    {
     "data": {
      "text/plain": [
       "202"
      ]
     },
     "execution_count": 13,
     "metadata": {},
     "output_type": "execute_result"
    }
   ],
   "source": [
    "# Read data as an RDD\n",
    "rdd = sc.textFile(\"data/numbers.txt\", 8) # Number of cores\n",
    "\n",
    "converted_rdd = rdd.map(lambda x: int(x)) # Map function that converts to integers\n",
    "filtered_rdd = converted_rdd.filter(lambda x: x >= 8) # Map function to filter numbers\n",
    "\n",
    "filtered_rdd.glom().collect() # To see results in partitions\n",
    "\n",
    "filtered_rdd.reduce(lambda x, y: x+y) # Reduce function to add integers"
   ]
  },
  {
   "cell_type": "code",
   "execution_count": 14,
   "metadata": {
    "slideshow": {
     "slide_type": "notes"
    }
   },
   "outputs": [
    {
     "data": {
      "text/plain": [
       "'4'"
      ]
     },
     "execution_count": 14,
     "metadata": {},
     "output_type": "execute_result"
    }
   ],
   "source": [
    "# Other useful functions\n",
    "\n",
    "rdd.getNumPartitions() # Get number of partitions\n",
    "rdd.count() # Reduce function to count how many elements are in the original rdd\n",
    "rdd.first() # Get first object"
   ]
  },
  {
   "cell_type": "code",
   "execution_count": 24,
   "metadata": {
    "slideshow": {
     "slide_type": "notes"
    }
   },
   "outputs": [],
   "source": [
    "# rdd.saveAsTextFile(\"ex01_output\") # Saves it into parquet files\n",
    "\n",
    "files = sc.textFile(\"ex01_output\") # Use filename or folder (multiple text files)\n",
    "files = sc.wholeTextFiles(\"data\") # Folder --- Load multiple files as key,values (good for TSA)"
   ]
  },
  {
   "cell_type": "markdown",
   "metadata": {
    "slideshow": {
     "slide_type": "slide"
    }
   },
   "source": [
    "# Part 2: RDD Operations"
   ]
  },
  {
   "cell_type": "markdown",
   "metadata": {
    "slideshow": {
     "slide_type": "slide"
    }
   },
   "source": [
    "### RDDs (Resilient Distributed Datasets)\n",
    "\n",
    "Abstraction of a distributed collection of items with operations and transformation applicable to the dataset.\n",
    "\n",
    "They are:\n",
    "- Distributed\n",
    "- Immutable\n",
    "- Resilient"
   ]
  },
  {
   "cell_type": "markdown",
   "metadata": {
    "slideshow": {
     "slide_type": "slide"
    }
   },
   "source": [
    "### RDD Operations\n",
    "\n",
    "- **Transformations**:\n",
    "    - Perform functions against each element in an RDD and return a new RDD\n",
    "    - *Lazy evaluation*: Operations are only evaluated when an action is requested\n",
    "- **Actions**\n",
    "    - Trigger a computation and return a value to the Spark driver"
   ]
  },
  {
   "cell_type": "markdown",
   "metadata": {
    "slideshow": {
     "slide_type": "slide"
    }
   },
   "source": [
    "### RDD Operations - Transformations\n",
    "\n",
    "<img src=\"img/transformations.png\">"
   ]
  },
  {
   "cell_type": "markdown",
   "metadata": {
    "slideshow": {
     "slide_type": "slide"
    }
   },
   "source": [
    "### RDD Operations - Actions\n",
    "\n",
    "<img src=\"img/actions.png\">"
   ]
  },
  {
   "cell_type": "markdown",
   "metadata": {
    "slideshow": {
     "slide_type": "slide"
    }
   },
   "source": [
    "#### Excercise: Calculate the sum of the odd numbers"
   ]
  },
  {
   "cell_type": "markdown",
   "metadata": {
    "slideshow": {
     "slide_type": "slide"
    }
   },
   "source": [
    "### Pair RDDs\n",
    "\n",
    "- Key-value pairs commonly used for many operations. (Example: `reduceByKey()`, etc.)"
   ]
  },
  {
   "cell_type": "code",
   "execution_count": 28,
   "metadata": {
    "slideshow": {
     "slide_type": "fragment"
    }
   },
   "outputs": [
    {
     "data": {
      "text/plain": [
       "[('odd', 9), ('odd', 9), ('odd', 9), ('odd', 9), ('odd', 9)]"
      ]
     },
     "execution_count": 28,
     "metadata": {},
     "output_type": "execute_result"
    }
   ],
   "source": [
    "rdd = sc.textFile(\"data/numbers.txt\").map(lambda num: int(num))\n",
    "rdd_map = rdd.map(lambda val: ('even',val) if val%2==0 else ('odd',val))\n",
    "rdd_map.top(5)"
   ]
  },
  {
   "cell_type": "code",
   "execution_count": 30,
   "metadata": {
    "slideshow": {
     "slide_type": "fragment"
    }
   },
   "outputs": [
    {
     "data": {
      "text/plain": [
       "['odd', 'odd', 'odd', 'odd', 'odd']"
      ]
     },
     "execution_count": 30,
     "metadata": {},
     "output_type": "execute_result"
    }
   ],
   "source": [
    "rdd_map.keys().top(5)"
   ]
  },
  {
   "cell_type": "code",
   "execution_count": 31,
   "metadata": {
    "slideshow": {
     "slide_type": "fragment"
    }
   },
   "outputs": [
    {
     "data": {
      "text/plain": [
       "[9, 9, 9, 9, 9]"
      ]
     },
     "execution_count": 31,
     "metadata": {},
     "output_type": "execute_result"
    }
   ],
   "source": [
    "rdd_map.values().top(5)"
   ]
  },
  {
   "cell_type": "markdown",
   "metadata": {},
   "source": [
    "#### Some transformations"
   ]
  },
  {
   "cell_type": "code",
   "execution_count": 63,
   "metadata": {
    "slideshow": {
     "slide_type": "slide"
    }
   },
   "outputs": [
    {
     "data": {
      "text/plain": [
       "[('even', <pyspark.resultiterable.ResultIterable at 0x7faaef293400>),\n",
       " ('odd', <pyspark.resultiterable.ResultIterable at 0x7faaef293358>)]"
      ]
     },
     "execution_count": 63,
     "metadata": {},
     "output_type": "execute_result"
    }
   ],
   "source": [
    "rdd_map.sortByKey()\n",
    "\n",
    "rdd_map_keys = rdd_map.groupByKey()\n",
    "rdd_map_keys.collect()\n",
    "# rdd_map_keys.map(lambda val: (val[0], list(val[1]))).collect()"
   ]
  },
  {
   "cell_type": "markdown",
   "metadata": {
    "slideshow": {
     "slide_type": "slide"
    }
   },
   "source": [
    "#### Excercise: Which one is more efficient? "
   ]
  },
  {
   "cell_type": "code",
   "execution_count": 61,
   "metadata": {
    "slideshow": {
     "slide_type": "fragment"
    }
   },
   "outputs": [
    {
     "data": {
      "text/plain": [
       "[('even', 202), ('odd', 233)]"
      ]
     },
     "execution_count": 61,
     "metadata": {},
     "output_type": "execute_result"
    }
   ],
   "source": [
    "rdd_map_keys.groupByKey().mapValues(lambda val: sum(val)).collect().groupByKey()\n",
    "rdd_map.reduceByKey(lambda x,y: x+y).collect()"
   ]
  },
  {
   "cell_type": "markdown",
   "metadata": {
    "slideshow": {
     "slide_type": "slide"
    }
   },
   "source": [
    "#### Some actions"
   ]
  },
  {
   "cell_type": "code",
   "execution_count": 64,
   "metadata": {
    "slideshow": {
     "slide_type": "fragment"
    }
   },
   "outputs": [
    {
     "data": {
      "text/plain": [
       "defaultdict(int, {'even': 51, 'odd': 49})"
      ]
     },
     "execution_count": 64,
     "metadata": {},
     "output_type": "execute_result"
    }
   ],
   "source": [
    "rdd_map.countByKey() # Why is it an action?"
   ]
  },
  {
   "cell_type": "markdown",
   "metadata": {
    "slideshow": {
     "slide_type": "slide"
    }
   },
   "source": [
    "### Pair RDD Operations - Transformations\n",
    "\n",
    "<img src=\"img/pair_transf.png\">"
   ]
  },
  {
   "cell_type": "markdown",
   "metadata": {
    "slideshow": {
     "slide_type": "slide"
    }
   },
   "source": [
    "### Pair RDD Operations - Actions\n",
    "\n",
    "<img src=\"img/pair_act.png\">"
   ]
  },
  {
   "cell_type": "code",
   "execution_count": null,
   "metadata": {
    "slideshow": {
     "slide_type": "slide"
    }
   },
   "outputs": [],
   "source": [
    "sc.stop() # Don't forget to close your connection"
   ]
  }
 ],
 "metadata": {
  "celltoolbar": "Slideshow",
  "kernelspec": {
   "display_name": "conda_python3",
   "language": "python",
   "name": "conda_python3"
  },
  "language_info": {
   "codemirror_mode": {
    "name": "ipython",
    "version": 3
   },
   "file_extension": ".py",
   "mimetype": "text/x-python",
   "name": "python",
   "nbconvert_exporter": "python",
   "pygments_lexer": "ipython3",
   "version": "3.6.10"
  }
 },
 "nbformat": 4,
 "nbformat_minor": 4
}
