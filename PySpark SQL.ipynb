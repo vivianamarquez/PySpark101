{
 "cells": [
  {
   "cell_type": "markdown",
   "metadata": {
    "slideshow": {
     "slide_type": "slide"
    }
   },
   "source": [
    "# PySpark 102\n",
    "\n",
    "### Spark SQL\n",
    "\n",
    "October 2020"
   ]
  },
  {
   "cell_type": "markdown",
   "metadata": {
    "slideshow": {
     "slide_type": "slide"
    }
   },
   "source": [
    "### Spark SQL\n",
    "\n",
    "Spark SQL is a Spark module for structured data processing. It provides a programming abstraction called DataFrames and can also act as a distributed SQL query engine.\n",
    "\n",
    "<img src='img/sparksql.png'>"
   ]
  },
  {
   "cell_type": "code",
   "execution_count": 2,
   "metadata": {
    "slideshow": {
     "slide_type": "slide"
    }
   },
   "outputs": [
    {
     "data": {
      "text/html": [
       "\n",
       "        <div>\n",
       "            <p><b>SparkContext</b></p>\n",
       "\n",
       "            <p><a href=\"http://ip-172-16-91-108.us-west-2.compute.internal:4041\">Spark UI</a></p>\n",
       "\n",
       "            <dl>\n",
       "              <dt>Version</dt>\n",
       "                <dd><code>v2.3.4</code></dd>\n",
       "              <dt>Master</dt>\n",
       "                <dd><code>local[*]</code></dd>\n",
       "              <dt>AppName</dt>\n",
       "                <dd><code>pyspark-shell</code></dd>\n",
       "            </dl>\n",
       "        </div>\n",
       "        "
      ],
      "text/plain": [
       "<SparkContext master=local[*] appName=pyspark-shell>"
      ]
     },
     "execution_count": 2,
     "metadata": {},
     "output_type": "execute_result"
    }
   ],
   "source": [
    "from pyspark import SparkContext\n",
    "from pyspark.sql import SparkSession\n",
    "\n",
    "sc = SparkContext() \n",
    "ss = SparkSession.builder.getOrCreate()\n",
    "\n",
    "ss.catalog.clearCache()\n",
    "sc.setLogLevel(\"OFF\")\n",
    "\n",
    "sc"
   ]
  },
  {
   "cell_type": "markdown",
   "metadata": {
    "slideshow": {
     "slide_type": "slide"
    }
   },
   "source": [
    "#### Some of the sources to create a Spark SQL Data Frame\n",
    "- From an RDD\n",
    "- From a CSV, JSON file\n",
    "- From a Pandas data frame\n",
    "- From an S3 bucket\n",
    "- From parquet files"
   ]
  },
  {
   "cell_type": "markdown",
   "metadata": {
    "slideshow": {
     "slide_type": "fragment"
    }
   },
   "source": [
    "#### There is two ways to create a Spark SQL Data Frame\n",
    "- `toDF()`\n",
    "- `createDataFrame`"
   ]
  },
  {
   "cell_type": "markdown",
   "metadata": {
    "slideshow": {
     "slide_type": "slide"
    }
   },
   "source": [
    "#### From an RDD"
   ]
  },
  {
   "cell_type": "code",
   "execution_count": 18,
   "metadata": {
    "slideshow": {
     "slide_type": "fragment"
    }
   },
   "outputs": [
    {
     "data": {
      "text/plain": [
       "[['7.9', '3.8', '6.4', '2.0', 'virginica'],\n",
       " ['7.7', '3.8', '6.7', '2.2', 'virginica']]"
      ]
     },
     "execution_count": 18,
     "metadata": {},
     "output_type": "execute_result"
    }
   ],
   "source": [
    "rdd = sc.textFile(\"data/iris.csv\")\n",
    "rdd = rdd.map(lambda row: row.split(\",\"))\n",
    "rdd.top(2)"
   ]
  },
  {
   "cell_type": "code",
   "execution_count": 19,
   "metadata": {
    "slideshow": {
     "slide_type": "slide"
    }
   },
   "outputs": [
    {
     "name": "stdout",
     "output_type": "stream",
     "text": [
      "+------------+-----------+------------+-----------+-------+\n",
      "|sepal_length|sepal_width|petal_length|petal_width|species|\n",
      "+------------+-----------+------------+-----------+-------+\n",
      "|         5.1|        3.5|         1.4|        0.2| setosa|\n",
      "|         4.9|        3.0|         1.4|        0.2| setosa|\n",
      "|         4.7|        3.2|         1.3|        0.2| setosa|\n",
      "|         4.6|        3.1|         1.5|        0.2| setosa|\n",
      "|         5.0|        3.6|         1.4|        0.2| setosa|\n",
      "+------------+-----------+------------+-----------+-------+\n",
      "only showing top 5 rows\n",
      "\n"
     ]
    }
   ],
   "source": [
    "df = rdd.toDF(['sepal_length', 'sepal_width', 'petal_length', 'petal_width', 'species'])\n",
    "df.show(5)"
   ]
  },
  {
   "cell_type": "markdown",
   "metadata": {
    "slideshow": {
     "slide_type": "slide"
    }
   },
   "source": [
    "#### From a CSV file\n",
    "- You can read multiple csv at the same time by passing in the folder path"
   ]
  },
  {
   "cell_type": "code",
   "execution_count": 20,
   "metadata": {},
   "outputs": [
    {
     "name": "stdout",
     "output_type": "stream",
     "text": [
      "+---+---+---+---+------+\n",
      "|5.1|3.5|1.4|0.2|setosa|\n",
      "+---+---+---+---+------+\n",
      "|4.9|3.0|1.4|0.2|setosa|\n",
      "|4.7|3.2|1.3|0.2|setosa|\n",
      "|4.6|3.1|1.5|0.2|setosa|\n",
      "|5.0|3.6|1.4|0.2|setosa|\n",
      "|5.4|3.9|1.7|0.4|setosa|\n",
      "+---+---+---+---+------+\n",
      "only showing top 5 rows\n",
      "\n"
     ]
    }
   ],
   "source": [
    "df = ss.read.option(\"header\",True).csv(\"data/iris.csv\")\n",
    "df.show(5)"
   ]
  },
  {
   "cell_type": "code",
   "execution_count": 21,
   "metadata": {
    "slideshow": {
     "slide_type": "slide"
    }
   },
   "outputs": [
    {
     "name": "stdout",
     "output_type": "stream",
     "text": [
      "root\n",
      " |-- 5.1: string (nullable = true)\n",
      " |-- 3.5: string (nullable = true)\n",
      " |-- 1.4: string (nullable = true)\n",
      " |-- 0.2: string (nullable = true)\n",
      " |-- setosa: string (nullable = true)\n",
      "\n"
     ]
    }
   ],
   "source": [
    "# All columns are string type and nullable. This is not good.\n",
    "df.printSchema()"
   ]
  },
  {
   "cell_type": "markdown",
   "metadata": {
    "slideshow": {
     "slide_type": "fragment"
    }
   },
   "source": [
    "It is recommended to create a data frame using `createDataFrame()`. For this, you need to define a schema first."
   ]
  },
  {
   "cell_type": "code",
   "execution_count": 22,
   "metadata": {
    "slideshow": {
     "slide_type": "slide"
    }
   },
   "outputs": [],
   "source": [
    "from pyspark.sql.types import *\n",
    "\n",
    "dfSchema = StructType([\n",
    "    StructField(\"sepal_length\", DoubleType(), True),\n",
    "    StructField(\"sepal_width\", DoubleType(), True),\n",
    "    StructField(\"petal_length\", DoubleType(), True),\n",
    "    StructField(\"petal_width\", DoubleType(), True),\n",
    "    StructField(\"species\", StringType(), True),\n",
    "])"
   ]
  },
  {
   "cell_type": "code",
   "execution_count": 24,
   "metadata": {
    "slideshow": {
     "slide_type": "fragment"
    }
   },
   "outputs": [
    {
     "name": "stdout",
     "output_type": "stream",
     "text": [
      "+------------+-----------+------------+-----------+-------+\n",
      "|sepal_length|sepal_width|petal_length|petal_width|species|\n",
      "+------------+-----------+------------+-----------+-------+\n",
      "|         5.1|        3.5|         1.4|        0.2| setosa|\n",
      "|         4.9|        3.0|         1.4|        0.2| setosa|\n",
      "|         4.7|        3.2|         1.3|        0.2| setosa|\n",
      "|         4.6|        3.1|         1.5|        0.2| setosa|\n",
      "|         5.0|        3.6|         1.4|        0.2| setosa|\n",
      "+------------+-----------+------------+-----------+-------+\n",
      "only showing top 5 rows\n",
      "\n"
     ]
    }
   ],
   "source": [
    "rdd = sc.textFile(\"data/iris.csv\")\n",
    "rdd = rdd.map(lambda row: row.split(\",\"))\n",
    "rdd = rdd.map(lambda row: (float(row[0]),float(row[1]),float(row[2]),float(row[3]),row[4]))\n",
    "\n",
    "df = ss.createDataFrame(rdd, dfSchema)\n",
    "df.show(5)"
   ]
  },
  {
   "cell_type": "markdown",
   "metadata": {
    "slideshow": {
     "slide_type": "slide"
    }
   },
   "source": [
    "#### DataFrame API Basics"
   ]
  },
  {
   "cell_type": "code",
   "execution_count": 25,
   "metadata": {
    "slideshow": {
     "slide_type": "fragment"
    }
   },
   "outputs": [
    {
     "name": "stdout",
     "output_type": "stream",
     "text": [
      "+-------+\n",
      "|species|\n",
      "+-------+\n",
      "| setosa|\n",
      "| setosa|\n",
      "+-------+\n",
      "only showing top 2 rows\n",
      "\n"
     ]
    }
   ],
   "source": [
    "df.select(\"species\").show(2)"
   ]
  },
  {
   "cell_type": "code",
   "execution_count": 26,
   "metadata": {
    "slideshow": {
     "slide_type": "fragment"
    }
   },
   "outputs": [
    {
     "name": "stdout",
     "output_type": "stream",
     "text": [
      "+------------+-----------+------------+-----------+\n",
      "|sepal_length|sepal_width|petal_length|petal_width|\n",
      "+------------+-----------+------------+-----------+\n",
      "|         5.1|        3.5|         1.4|        0.2|\n",
      "|         4.9|        3.0|         1.4|        0.2|\n",
      "+------------+-----------+------------+-----------+\n",
      "only showing top 2 rows\n",
      "\n"
     ]
    }
   ],
   "source": [
    "df.drop(\"species\").show(2)"
   ]
  },
  {
   "cell_type": "code",
   "execution_count": 27,
   "metadata": {
    "slideshow": {
     "slide_type": "fragment"
    }
   },
   "outputs": [
    {
     "name": "stdout",
     "output_type": "stream",
     "text": [
      "+------------+-----------+------------+-----------+-------+\n",
      "|sepal_length|sepal_width|petal_length|petal_width|zpecies|\n",
      "+------------+-----------+------------+-----------+-------+\n",
      "|         5.1|        3.5|         1.4|        0.2| setosa|\n",
      "|         4.9|        3.0|         1.4|        0.2| setosa|\n",
      "+------------+-----------+------------+-----------+-------+\n",
      "only showing top 2 rows\n",
      "\n"
     ]
    }
   ],
   "source": [
    "df.withColumnRenamed(\"species\",\"zpecies\").show(2)"
   ]
  },
  {
   "cell_type": "code",
   "execution_count": 28,
   "metadata": {
    "slideshow": {
     "slide_type": "slide"
    }
   },
   "outputs": [
    {
     "name": "stdout",
     "output_type": "stream",
     "text": [
      "+------------+-----------+------------+-----------+-------+\n",
      "|sepal_length|sepal_width|petal_length|petal_width|species|\n",
      "+------------+-----------+------------+-----------+-------+\n",
      "|         5.1|        3.5|         1.4|        0.2| setosa|\n",
      "|         4.9|        3.0|         1.4|        0.2| setosa|\n",
      "+------------+-----------+------------+-----------+-------+\n",
      "only showing top 2 rows\n",
      "\n"
     ]
    }
   ],
   "source": [
    "df.where(df['species'].isNotNull()).show(2)"
   ]
  },
  {
   "cell_type": "code",
   "execution_count": 29,
   "metadata": {
    "slideshow": {
     "slide_type": "fragment"
    }
   },
   "outputs": [
    {
     "name": "stdout",
     "output_type": "stream",
     "text": [
      "+------------+-----------+------------+-----------+-------+-----------+\n",
      "|sepal_length|sepal_width|petal_length|petal_width|species|new_species|\n",
      "+------------+-----------+------------+-----------+-------+-----------+\n",
      "|         5.1|        3.5|         1.4|        0.2| setosa|     SETOSA|\n",
      "|         4.9|        3.0|         1.4|        0.2| setosa|     SETOSA|\n",
      "+------------+-----------+------------+-----------+-------+-----------+\n",
      "only showing top 2 rows\n",
      "\n"
     ]
    }
   ],
   "source": [
    "from pyspark.sql.functions import *\n",
    "\n",
    "df.withColumn(\"new_species\",upper(df['species'])).show(2)"
   ]
  },
  {
   "cell_type": "markdown",
   "metadata": {
    "slideshow": {
     "slide_type": "fragment"
    }
   },
   "source": [
    "and [more](https://spark.apache.org/docs/1.6.2/api/python/pyspark.sql.html)."
   ]
  },
  {
   "cell_type": "markdown",
   "metadata": {
    "slideshow": {
     "slide_type": "slide"
    }
   },
   "source": [
    "#### DataFrame API SQL"
   ]
  },
  {
   "cell_type": "code",
   "execution_count": 30,
   "metadata": {
    "slideshow": {
     "slide_type": "fragment"
    }
   },
   "outputs": [
    {
     "name": "stdout",
     "output_type": "stream",
     "text": [
      "+----------+-----+\n",
      "|   species|count|\n",
      "+----------+-----+\n",
      "| virginica|   50|\n",
      "|versicolor|   50|\n",
      "|    setosa|   50|\n",
      "+----------+-----+\n",
      "\n"
     ]
    }
   ],
   "source": [
    "df.groupBy('species').count().show()"
   ]
  },
  {
   "cell_type": "code",
   "execution_count": 33,
   "metadata": {
    "slideshow": {
     "slide_type": "fragment"
    }
   },
   "outputs": [
    {
     "name": "stdout",
     "output_type": "stream",
     "text": [
      "+----------+-----------------+\n",
      "|   species|avg(sepal_length)|\n",
      "+----------+-----------------+\n",
      "| virginica|6.587999999999998|\n",
      "|versicolor|            5.936|\n",
      "|    setosa|5.005999999999999|\n",
      "+----------+-----------------+\n",
      "\n"
     ]
    }
   ],
   "source": [
    "df.groupBy('species').avg('sepal_length').sort('avg(sepal_length)', ascending=0).show()"
   ]
  },
  {
   "cell_type": "code",
   "execution_count": 34,
   "metadata": {
    "slideshow": {
     "slide_type": "fragment"
    }
   },
   "outputs": [
    {
     "name": "stdout",
     "output_type": "stream",
     "text": [
      "+------------+-----------+------------+-----------+---------+\n",
      "|sepal_length|sepal_width|petal_length|petal_width|  species|\n",
      "+------------+-----------+------------+-----------+---------+\n",
      "|         6.3|        3.3|         6.0|        2.5|virginica|\n",
      "|         5.8|        2.7|         5.1|        1.9|virginica|\n",
      "+------------+-----------+------------+-----------+---------+\n",
      "only showing top 2 rows\n",
      "\n"
     ]
    }
   ],
   "source": [
    "df.filter(df.species=='virginica').show(2)"
   ]
  },
  {
   "cell_type": "code",
   "execution_count": 45,
   "metadata": {
    "slideshow": {
     "slide_type": "slide"
    }
   },
   "outputs": [
    {
     "name": "stdout",
     "output_type": "stream",
     "text": [
      "+----------+-----------------+-----------------+\n",
      "|   species|max(sepal_length)|min(petal_length)|\n",
      "+----------+-----------------+-----------------+\n",
      "| virginica|              7.9|              4.5|\n",
      "|versicolor|              7.0|              3.0|\n",
      "|    setosa|              5.8|              1.0|\n",
      "+----------+-----------------+-----------------+\n",
      "\n"
     ]
    }
   ],
   "source": [
    "df.groupBy('species').agg(max(col('sepal_length')),min(col('petal_length'))).show()"
   ]
  },
  {
   "cell_type": "code",
   "execution_count": 46,
   "metadata": {
    "slideshow": {
     "slide_type": "notes"
    }
   },
   "outputs": [
    {
     "data": {
      "text/plain": [
       "[Row(sepal_length=5.1, sepal_width=3.5, petal_length=1.4, petal_width=0.2, species='setosa'),\n",
       " Row(sepal_length=4.9, sepal_width=3.0, petal_length=1.4, petal_width=0.2, species='setosa'),\n",
       " Row(sepal_length=4.7, sepal_width=3.2, petal_length=1.3, petal_width=0.2, species='setosa'),\n",
       " Row(sepal_length=4.6, sepal_width=3.1, petal_length=1.5, petal_width=0.2, species='setosa'),\n",
       " Row(sepal_length=5.0, sepal_width=3.6, petal_length=1.4, petal_width=0.2, species='setosa'),\n",
       " Row(sepal_length=5.4, sepal_width=3.9, petal_length=1.7, petal_width=0.4, species='setosa'),\n",
       " Row(sepal_length=4.6, sepal_width=3.4, petal_length=1.4, petal_width=0.3, species='setosa'),\n",
       " Row(sepal_length=5.0, sepal_width=3.4, petal_length=1.5, petal_width=0.2, species='setosa'),\n",
       " Row(sepal_length=4.4, sepal_width=2.9, petal_length=1.4, petal_width=0.2, species='setosa'),\n",
       " Row(sepal_length=4.9, sepal_width=3.1, petal_length=1.5, petal_width=0.1, species='setosa'),\n",
       " Row(sepal_length=5.4, sepal_width=3.7, petal_length=1.5, petal_width=0.2, species='setosa'),\n",
       " Row(sepal_length=4.8, sepal_width=3.4, petal_length=1.6, petal_width=0.2, species='setosa'),\n",
       " Row(sepal_length=4.8, sepal_width=3.0, petal_length=1.4, petal_width=0.1, species='setosa'),\n",
       " Row(sepal_length=4.3, sepal_width=3.0, petal_length=1.1, petal_width=0.1, species='setosa'),\n",
       " Row(sepal_length=5.8, sepal_width=4.0, petal_length=1.2, petal_width=0.2, species='setosa'),\n",
       " Row(sepal_length=5.7, sepal_width=4.4, petal_length=1.5, petal_width=0.4, species='setosa'),\n",
       " Row(sepal_length=5.4, sepal_width=3.9, petal_length=1.3, petal_width=0.4, species='setosa'),\n",
       " Row(sepal_length=5.1, sepal_width=3.5, petal_length=1.4, petal_width=0.3, species='setosa'),\n",
       " Row(sepal_length=5.7, sepal_width=3.8, petal_length=1.7, petal_width=0.3, species='setosa'),\n",
       " Row(sepal_length=5.1, sepal_width=3.8, petal_length=1.5, petal_width=0.3, species='setosa'),\n",
       " Row(sepal_length=5.4, sepal_width=3.4, petal_length=1.7, petal_width=0.2, species='setosa'),\n",
       " Row(sepal_length=5.1, sepal_width=3.7, petal_length=1.5, petal_width=0.4, species='setosa'),\n",
       " Row(sepal_length=4.6, sepal_width=3.6, petal_length=1.0, petal_width=0.2, species='setosa'),\n",
       " Row(sepal_length=5.1, sepal_width=3.3, petal_length=1.7, petal_width=0.5, species='setosa'),\n",
       " Row(sepal_length=4.8, sepal_width=3.4, petal_length=1.9, petal_width=0.2, species='setosa'),\n",
       " Row(sepal_length=5.0, sepal_width=3.0, petal_length=1.6, petal_width=0.2, species='setosa'),\n",
       " Row(sepal_length=5.0, sepal_width=3.4, petal_length=1.6, petal_width=0.4, species='setosa'),\n",
       " Row(sepal_length=5.2, sepal_width=3.5, petal_length=1.5, petal_width=0.2, species='setosa'),\n",
       " Row(sepal_length=5.2, sepal_width=3.4, petal_length=1.4, petal_width=0.2, species='setosa'),\n",
       " Row(sepal_length=4.7, sepal_width=3.2, petal_length=1.6, petal_width=0.2, species='setosa'),\n",
       " Row(sepal_length=4.8, sepal_width=3.1, petal_length=1.6, petal_width=0.2, species='setosa'),\n",
       " Row(sepal_length=5.4, sepal_width=3.4, petal_length=1.5, petal_width=0.4, species='setosa'),\n",
       " Row(sepal_length=5.2, sepal_width=4.1, petal_length=1.5, petal_width=0.1, species='setosa'),\n",
       " Row(sepal_length=5.5, sepal_width=4.2, petal_length=1.4, petal_width=0.2, species='setosa'),\n",
       " Row(sepal_length=4.9, sepal_width=3.1, petal_length=1.5, petal_width=0.2, species='setosa'),\n",
       " Row(sepal_length=5.0, sepal_width=3.2, petal_length=1.2, petal_width=0.2, species='setosa'),\n",
       " Row(sepal_length=5.5, sepal_width=3.5, petal_length=1.3, petal_width=0.2, species='setosa'),\n",
       " Row(sepal_length=4.9, sepal_width=3.6, petal_length=1.4, petal_width=0.1, species='setosa'),\n",
       " Row(sepal_length=4.4, sepal_width=3.0, petal_length=1.3, petal_width=0.2, species='setosa'),\n",
       " Row(sepal_length=5.1, sepal_width=3.4, petal_length=1.5, petal_width=0.2, species='setosa'),\n",
       " Row(sepal_length=5.0, sepal_width=3.5, petal_length=1.3, petal_width=0.3, species='setosa'),\n",
       " Row(sepal_length=4.5, sepal_width=2.3, petal_length=1.3, petal_width=0.3, species='setosa'),\n",
       " Row(sepal_length=4.4, sepal_width=3.2, petal_length=1.3, petal_width=0.2, species='setosa'),\n",
       " Row(sepal_length=5.0, sepal_width=3.5, petal_length=1.6, petal_width=0.6, species='setosa'),\n",
       " Row(sepal_length=5.1, sepal_width=3.8, petal_length=1.9, petal_width=0.4, species='setosa'),\n",
       " Row(sepal_length=4.8, sepal_width=3.0, petal_length=1.4, petal_width=0.3, species='setosa'),\n",
       " Row(sepal_length=5.1, sepal_width=3.8, petal_length=1.6, petal_width=0.2, species='setosa'),\n",
       " Row(sepal_length=4.6, sepal_width=3.2, petal_length=1.4, petal_width=0.2, species='setosa'),\n",
       " Row(sepal_length=5.3, sepal_width=3.7, petal_length=1.5, petal_width=0.2, species='setosa'),\n",
       " Row(sepal_length=5.0, sepal_width=3.3, petal_length=1.4, petal_width=0.2, species='setosa'),\n",
       " Row(sepal_length=7.0, sepal_width=3.2, petal_length=4.7, petal_width=1.4, species='versicolor'),\n",
       " Row(sepal_length=6.4, sepal_width=3.2, petal_length=4.5, petal_width=1.5, species='versicolor'),\n",
       " Row(sepal_length=6.9, sepal_width=3.1, petal_length=4.9, petal_width=1.5, species='versicolor'),\n",
       " Row(sepal_length=5.5, sepal_width=2.3, petal_length=4.0, petal_width=1.3, species='versicolor'),\n",
       " Row(sepal_length=6.5, sepal_width=2.8, petal_length=4.6, petal_width=1.5, species='versicolor'),\n",
       " Row(sepal_length=5.7, sepal_width=2.8, petal_length=4.5, petal_width=1.3, species='versicolor'),\n",
       " Row(sepal_length=6.3, sepal_width=3.3, petal_length=4.7, petal_width=1.6, species='versicolor'),\n",
       " Row(sepal_length=4.9, sepal_width=2.4, petal_length=3.3, petal_width=1.0, species='versicolor'),\n",
       " Row(sepal_length=6.6, sepal_width=2.9, petal_length=4.6, petal_width=1.3, species='versicolor'),\n",
       " Row(sepal_length=5.2, sepal_width=2.7, petal_length=3.9, petal_width=1.4, species='versicolor'),\n",
       " Row(sepal_length=5.0, sepal_width=2.0, petal_length=3.5, petal_width=1.0, species='versicolor'),\n",
       " Row(sepal_length=5.9, sepal_width=3.0, petal_length=4.2, petal_width=1.5, species='versicolor'),\n",
       " Row(sepal_length=6.0, sepal_width=2.2, petal_length=4.0, petal_width=1.0, species='versicolor'),\n",
       " Row(sepal_length=6.1, sepal_width=2.9, petal_length=4.7, petal_width=1.4, species='versicolor'),\n",
       " Row(sepal_length=5.6, sepal_width=2.9, petal_length=3.6, petal_width=1.3, species='versicolor'),\n",
       " Row(sepal_length=6.7, sepal_width=3.1, petal_length=4.4, petal_width=1.4, species='versicolor'),\n",
       " Row(sepal_length=5.6, sepal_width=3.0, petal_length=4.5, petal_width=1.5, species='versicolor'),\n",
       " Row(sepal_length=5.8, sepal_width=2.7, petal_length=4.1, petal_width=1.0, species='versicolor'),\n",
       " Row(sepal_length=6.2, sepal_width=2.2, petal_length=4.5, petal_width=1.5, species='versicolor'),\n",
       " Row(sepal_length=5.6, sepal_width=2.5, petal_length=3.9, petal_width=1.1, species='versicolor'),\n",
       " Row(sepal_length=5.9, sepal_width=3.2, petal_length=4.8, petal_width=1.8, species='versicolor'),\n",
       " Row(sepal_length=6.1, sepal_width=2.8, petal_length=4.0, petal_width=1.3, species='versicolor'),\n",
       " Row(sepal_length=6.3, sepal_width=2.5, petal_length=4.9, petal_width=1.5, species='versicolor'),\n",
       " Row(sepal_length=6.1, sepal_width=2.8, petal_length=4.7, petal_width=1.2, species='versicolor'),\n",
       " Row(sepal_length=6.4, sepal_width=2.9, petal_length=4.3, petal_width=1.3, species='versicolor'),\n",
       " Row(sepal_length=6.6, sepal_width=3.0, petal_length=4.4, petal_width=1.4, species='versicolor'),\n",
       " Row(sepal_length=6.8, sepal_width=2.8, petal_length=4.8, petal_width=1.4, species='versicolor'),\n",
       " Row(sepal_length=6.7, sepal_width=3.0, petal_length=5.0, petal_width=1.7, species='versicolor'),\n",
       " Row(sepal_length=6.0, sepal_width=2.9, petal_length=4.5, petal_width=1.5, species='versicolor'),\n",
       " Row(sepal_length=5.7, sepal_width=2.6, petal_length=3.5, petal_width=1.0, species='versicolor'),\n",
       " Row(sepal_length=5.5, sepal_width=2.4, petal_length=3.8, petal_width=1.1, species='versicolor'),\n",
       " Row(sepal_length=5.5, sepal_width=2.4, petal_length=3.7, petal_width=1.0, species='versicolor'),\n",
       " Row(sepal_length=5.8, sepal_width=2.7, petal_length=3.9, petal_width=1.2, species='versicolor'),\n",
       " Row(sepal_length=6.0, sepal_width=2.7, petal_length=5.1, petal_width=1.6, species='versicolor'),\n",
       " Row(sepal_length=5.4, sepal_width=3.0, petal_length=4.5, petal_width=1.5, species='versicolor'),\n",
       " Row(sepal_length=6.0, sepal_width=3.4, petal_length=4.5, petal_width=1.6, species='versicolor'),\n",
       " Row(sepal_length=6.7, sepal_width=3.1, petal_length=4.7, petal_width=1.5, species='versicolor'),\n",
       " Row(sepal_length=6.3, sepal_width=2.3, petal_length=4.4, petal_width=1.3, species='versicolor'),\n",
       " Row(sepal_length=5.6, sepal_width=3.0, petal_length=4.1, petal_width=1.3, species='versicolor'),\n",
       " Row(sepal_length=5.5, sepal_width=2.5, petal_length=4.0, petal_width=1.3, species='versicolor'),\n",
       " Row(sepal_length=5.5, sepal_width=2.6, petal_length=4.4, petal_width=1.2, species='versicolor'),\n",
       " Row(sepal_length=6.1, sepal_width=3.0, petal_length=4.6, petal_width=1.4, species='versicolor'),\n",
       " Row(sepal_length=5.8, sepal_width=2.6, petal_length=4.0, petal_width=1.2, species='versicolor'),\n",
       " Row(sepal_length=5.0, sepal_width=2.3, petal_length=3.3, petal_width=1.0, species='versicolor'),\n",
       " Row(sepal_length=5.6, sepal_width=2.7, petal_length=4.2, petal_width=1.3, species='versicolor'),\n",
       " Row(sepal_length=5.7, sepal_width=3.0, petal_length=4.2, petal_width=1.2, species='versicolor'),\n",
       " Row(sepal_length=5.7, sepal_width=2.9, petal_length=4.2, petal_width=1.3, species='versicolor'),\n",
       " Row(sepal_length=6.2, sepal_width=2.9, petal_length=4.3, petal_width=1.3, species='versicolor'),\n",
       " Row(sepal_length=5.1, sepal_width=2.5, petal_length=3.0, petal_width=1.1, species='versicolor'),\n",
       " Row(sepal_length=5.7, sepal_width=2.8, petal_length=4.1, petal_width=1.3, species='versicolor'),\n",
       " Row(sepal_length=6.3, sepal_width=3.3, petal_length=6.0, petal_width=2.5, species='virginica'),\n",
       " Row(sepal_length=5.8, sepal_width=2.7, petal_length=5.1, petal_width=1.9, species='virginica'),\n",
       " Row(sepal_length=7.1, sepal_width=3.0, petal_length=5.9, petal_width=2.1, species='virginica'),\n",
       " Row(sepal_length=6.3, sepal_width=2.9, petal_length=5.6, petal_width=1.8, species='virginica'),\n",
       " Row(sepal_length=6.5, sepal_width=3.0, petal_length=5.8, petal_width=2.2, species='virginica'),\n",
       " Row(sepal_length=7.6, sepal_width=3.0, petal_length=6.6, petal_width=2.1, species='virginica'),\n",
       " Row(sepal_length=4.9, sepal_width=2.5, petal_length=4.5, petal_width=1.7, species='virginica'),\n",
       " Row(sepal_length=7.3, sepal_width=2.9, petal_length=6.3, petal_width=1.8, species='virginica'),\n",
       " Row(sepal_length=6.7, sepal_width=2.5, petal_length=5.8, petal_width=1.8, species='virginica'),\n",
       " Row(sepal_length=7.2, sepal_width=3.6, petal_length=6.1, petal_width=2.5, species='virginica'),\n",
       " Row(sepal_length=6.5, sepal_width=3.2, petal_length=5.1, petal_width=2.0, species='virginica'),\n",
       " Row(sepal_length=6.4, sepal_width=2.7, petal_length=5.3, petal_width=1.9, species='virginica'),\n",
       " Row(sepal_length=6.8, sepal_width=3.0, petal_length=5.5, petal_width=2.1, species='virginica'),\n",
       " Row(sepal_length=5.7, sepal_width=2.5, petal_length=5.0, petal_width=2.0, species='virginica'),\n",
       " Row(sepal_length=5.8, sepal_width=2.8, petal_length=5.1, petal_width=2.4, species='virginica'),\n",
       " Row(sepal_length=6.4, sepal_width=3.2, petal_length=5.3, petal_width=2.3, species='virginica'),\n",
       " Row(sepal_length=6.5, sepal_width=3.0, petal_length=5.5, petal_width=1.8, species='virginica'),\n",
       " Row(sepal_length=7.7, sepal_width=3.8, petal_length=6.7, petal_width=2.2, species='virginica'),\n",
       " Row(sepal_length=7.7, sepal_width=2.6, petal_length=6.9, petal_width=2.3, species='virginica'),\n",
       " Row(sepal_length=6.0, sepal_width=2.2, petal_length=5.0, petal_width=1.5, species='virginica'),\n",
       " Row(sepal_length=6.9, sepal_width=3.2, petal_length=5.7, petal_width=2.3, species='virginica'),\n",
       " Row(sepal_length=5.6, sepal_width=2.8, petal_length=4.9, petal_width=2.0, species='virginica'),\n",
       " Row(sepal_length=7.7, sepal_width=2.8, petal_length=6.7, petal_width=2.0, species='virginica'),\n",
       " Row(sepal_length=6.3, sepal_width=2.7, petal_length=4.9, petal_width=1.8, species='virginica'),\n",
       " Row(sepal_length=6.7, sepal_width=3.3, petal_length=5.7, petal_width=2.1, species='virginica'),\n",
       " Row(sepal_length=7.2, sepal_width=3.2, petal_length=6.0, petal_width=1.8, species='virginica'),\n",
       " Row(sepal_length=6.2, sepal_width=2.8, petal_length=4.8, petal_width=1.8, species='virginica'),\n",
       " Row(sepal_length=6.1, sepal_width=3.0, petal_length=4.9, petal_width=1.8, species='virginica'),\n",
       " Row(sepal_length=6.4, sepal_width=2.8, petal_length=5.6, petal_width=2.1, species='virginica'),\n",
       " Row(sepal_length=7.2, sepal_width=3.0, petal_length=5.8, petal_width=1.6, species='virginica'),\n",
       " Row(sepal_length=7.4, sepal_width=2.8, petal_length=6.1, petal_width=1.9, species='virginica'),\n",
       " Row(sepal_length=7.9, sepal_width=3.8, petal_length=6.4, petal_width=2.0, species='virginica'),\n",
       " Row(sepal_length=6.4, sepal_width=2.8, petal_length=5.6, petal_width=2.2, species='virginica'),\n",
       " Row(sepal_length=6.3, sepal_width=2.8, petal_length=5.1, petal_width=1.5, species='virginica'),\n",
       " Row(sepal_length=6.1, sepal_width=2.6, petal_length=5.6, petal_width=1.4, species='virginica'),\n",
       " Row(sepal_length=7.7, sepal_width=3.0, petal_length=6.1, petal_width=2.3, species='virginica'),\n",
       " Row(sepal_length=6.3, sepal_width=3.4, petal_length=5.6, petal_width=2.4, species='virginica'),\n",
       " Row(sepal_length=6.4, sepal_width=3.1, petal_length=5.5, petal_width=1.8, species='virginica'),\n",
       " Row(sepal_length=6.0, sepal_width=3.0, petal_length=4.8, petal_width=1.8, species='virginica'),\n",
       " Row(sepal_length=6.9, sepal_width=3.1, petal_length=5.4, petal_width=2.1, species='virginica'),\n",
       " Row(sepal_length=6.7, sepal_width=3.1, petal_length=5.6, petal_width=2.4, species='virginica'),\n",
       " Row(sepal_length=6.9, sepal_width=3.1, petal_length=5.1, petal_width=2.3, species='virginica'),\n",
       " Row(sepal_length=5.8, sepal_width=2.7, petal_length=5.1, petal_width=1.9, species='virginica'),\n",
       " Row(sepal_length=6.8, sepal_width=3.2, petal_length=5.9, petal_width=2.3, species='virginica'),\n",
       " Row(sepal_length=6.7, sepal_width=3.3, petal_length=5.7, petal_width=2.5, species='virginica'),\n",
       " Row(sepal_length=6.7, sepal_width=3.0, petal_length=5.2, petal_width=2.3, species='virginica'),\n",
       " Row(sepal_length=6.3, sepal_width=2.5, petal_length=5.0, petal_width=1.9, species='virginica'),\n",
       " Row(sepal_length=6.5, sepal_width=3.0, petal_length=5.2, petal_width=2.0, species='virginica'),\n",
       " Row(sepal_length=6.2, sepal_width=3.4, petal_length=5.4, petal_width=2.3, species='virginica'),\n",
       " Row(sepal_length=5.9, sepal_width=3.0, petal_length=5.1, petal_width=1.8, species='virginica')]"
      ]
     },
     "execution_count": 46,
     "metadata": {},
     "output_type": "execute_result"
    }
   ],
   "source": [
    "df.collect()"
   ]
  },
  {
   "cell_type": "code",
   "execution_count": 47,
   "metadata": {
    "slideshow": {
     "slide_type": "notes"
    }
   },
   "outputs": [
    {
     "name": "stdout",
     "output_type": "stream",
     "text": [
      "+---------+------------+-----------+------------+-----------+------------+-----------+------------+-----------+\n",
      "|  species|sepal_length|sepal_width|petal_length|petal_width|sepal_length|sepal_width|petal_length|petal_width|\n",
      "+---------+------------+-----------+------------+-----------+------------+-----------+------------+-----------+\n",
      "|virginica|         6.3|        3.3|         6.0|        2.5|         6.3|        3.3|         6.0|        2.5|\n",
      "+---------+------------+-----------+------------+-----------+------------+-----------+------------+-----------+\n",
      "only showing top 1 row\n",
      "\n"
     ]
    }
   ],
   "source": [
    "df.join(df, \"species\", 'outer').show(1)"
   ]
  },
  {
   "cell_type": "markdown",
   "metadata": {
    "slideshow": {
     "slide_type": "slide"
    }
   },
   "source": [
    "#### UDF (User-defined functions)"
   ]
  },
  {
   "cell_type": "code",
   "execution_count": 36,
   "metadata": {
    "slideshow": {
     "slide_type": "fragment"
    }
   },
   "outputs": [],
   "source": [
    "def return_sepal_bucket(sepal):\n",
    "    if sepal < 6:\n",
    "        return \"small\"\n",
    "    return \"big\"\n",
    "\n",
    "return_sepal_bucket_udf = udf(return_sepal_bucket,StringType())"
   ]
  },
  {
   "cell_type": "code",
   "execution_count": 50,
   "metadata": {
    "slideshow": {
     "slide_type": "fragment"
    }
   },
   "outputs": [
    {
     "name": "stdout",
     "output_type": "stream",
     "text": [
      "+------------+---------------------------------+-----+\n",
      "|sepal_length|return_sepal_bucket(sepal_length)|WIDTH|\n",
      "+------------+---------------------------------+-----+\n",
      "|         5.1|                            small|small|\n",
      "|         4.9|                            small|small|\n",
      "+------------+---------------------------------+-----+\n",
      "only showing top 2 rows\n",
      "\n"
     ]
    }
   ],
   "source": [
    "df.select(\"sepal_length\", return_sepal_bucket_udf(\"sepal_length\"), return_sepal_bucket_udf(\"sepal_width\").alias(\"WIDTH\")).show(2)"
   ]
  },
  {
   "cell_type": "markdown",
   "metadata": {
    "slideshow": {
     "slide_type": "slide"
    }
   },
   "source": [
    "#### Saving info"
   ]
  },
  {
   "cell_type": "code",
   "execution_count": 51,
   "metadata": {
    "slideshow": {
     "slide_type": "fragment"
    }
   },
   "outputs": [],
   "source": [
    "df.write.parquet(\"ex02_output\")"
   ]
  },
  {
   "cell_type": "code",
   "execution_count": 52,
   "metadata": {
    "slideshow": {
     "slide_type": "fragment"
    }
   },
   "outputs": [],
   "source": [
    "df.write.csv(\"ex02.csv\")\n",
    "# ss.read.parquet().write.csv()"
   ]
  },
  {
   "cell_type": "code",
   "execution_count": 55,
   "metadata": {
    "slideshow": {
     "slide_type": "fragment"
    }
   },
   "outputs": [
    {
     "data": {
      "text/plain": [
       "[Row(sepal_length=7.9, sepal_width=3.8, petal_length=6.4, petal_width=2.0, species='virginica'),\n",
       " Row(sepal_length=7.7, sepal_width=3.8, petal_length=6.7, petal_width=2.2, species='virginica'),\n",
       " Row(sepal_length=7.7, sepal_width=3.0, petal_length=6.1, petal_width=2.3, species='virginica'),\n",
       " Row(sepal_length=7.7, sepal_width=2.8, petal_length=6.7, petal_width=2.0, species='virginica'),\n",
       " Row(sepal_length=7.7, sepal_width=2.6, petal_length=6.9, petal_width=2.3, species='virginica')]"
      ]
     },
     "execution_count": 55,
     "metadata": {},
     "output_type": "execute_result"
    }
   ],
   "source": [
    "df.rdd.top(5)"
   ]
  },
  {
   "cell_type": "code",
   "execution_count": 53,
   "metadata": {
    "slideshow": {
     "slide_type": "fragment"
    }
   },
   "outputs": [
    {
     "data": {
      "text/html": [
       "<div>\n",
       "<style scoped>\n",
       "    .dataframe tbody tr th:only-of-type {\n",
       "        vertical-align: middle;\n",
       "    }\n",
       "\n",
       "    .dataframe tbody tr th {\n",
       "        vertical-align: top;\n",
       "    }\n",
       "\n",
       "    .dataframe thead th {\n",
       "        text-align: right;\n",
       "    }\n",
       "</style>\n",
       "<table border=\"1\" class=\"dataframe\">\n",
       "  <thead>\n",
       "    <tr style=\"text-align: right;\">\n",
       "      <th></th>\n",
       "      <th>sepal_length</th>\n",
       "      <th>sepal_width</th>\n",
       "      <th>petal_length</th>\n",
       "      <th>petal_width</th>\n",
       "      <th>species</th>\n",
       "    </tr>\n",
       "  </thead>\n",
       "  <tbody>\n",
       "    <tr>\n",
       "      <th>0</th>\n",
       "      <td>5.1</td>\n",
       "      <td>3.5</td>\n",
       "      <td>1.4</td>\n",
       "      <td>0.2</td>\n",
       "      <td>setosa</td>\n",
       "    </tr>\n",
       "    <tr>\n",
       "      <th>1</th>\n",
       "      <td>4.9</td>\n",
       "      <td>3.0</td>\n",
       "      <td>1.4</td>\n",
       "      <td>0.2</td>\n",
       "      <td>setosa</td>\n",
       "    </tr>\n",
       "    <tr>\n",
       "      <th>2</th>\n",
       "      <td>4.7</td>\n",
       "      <td>3.2</td>\n",
       "      <td>1.3</td>\n",
       "      <td>0.2</td>\n",
       "      <td>setosa</td>\n",
       "    </tr>\n",
       "    <tr>\n",
       "      <th>3</th>\n",
       "      <td>4.6</td>\n",
       "      <td>3.1</td>\n",
       "      <td>1.5</td>\n",
       "      <td>0.2</td>\n",
       "      <td>setosa</td>\n",
       "    </tr>\n",
       "    <tr>\n",
       "      <th>4</th>\n",
       "      <td>5.0</td>\n",
       "      <td>3.6</td>\n",
       "      <td>1.4</td>\n",
       "      <td>0.2</td>\n",
       "      <td>setosa</td>\n",
       "    </tr>\n",
       "    <tr>\n",
       "      <th>...</th>\n",
       "      <td>...</td>\n",
       "      <td>...</td>\n",
       "      <td>...</td>\n",
       "      <td>...</td>\n",
       "      <td>...</td>\n",
       "    </tr>\n",
       "    <tr>\n",
       "      <th>145</th>\n",
       "      <td>6.7</td>\n",
       "      <td>3.0</td>\n",
       "      <td>5.2</td>\n",
       "      <td>2.3</td>\n",
       "      <td>virginica</td>\n",
       "    </tr>\n",
       "    <tr>\n",
       "      <th>146</th>\n",
       "      <td>6.3</td>\n",
       "      <td>2.5</td>\n",
       "      <td>5.0</td>\n",
       "      <td>1.9</td>\n",
       "      <td>virginica</td>\n",
       "    </tr>\n",
       "    <tr>\n",
       "      <th>147</th>\n",
       "      <td>6.5</td>\n",
       "      <td>3.0</td>\n",
       "      <td>5.2</td>\n",
       "      <td>2.0</td>\n",
       "      <td>virginica</td>\n",
       "    </tr>\n",
       "    <tr>\n",
       "      <th>148</th>\n",
       "      <td>6.2</td>\n",
       "      <td>3.4</td>\n",
       "      <td>5.4</td>\n",
       "      <td>2.3</td>\n",
       "      <td>virginica</td>\n",
       "    </tr>\n",
       "    <tr>\n",
       "      <th>149</th>\n",
       "      <td>5.9</td>\n",
       "      <td>3.0</td>\n",
       "      <td>5.1</td>\n",
       "      <td>1.8</td>\n",
       "      <td>virginica</td>\n",
       "    </tr>\n",
       "  </tbody>\n",
       "</table>\n",
       "<p>150 rows × 5 columns</p>\n",
       "</div>"
      ],
      "text/plain": [
       "     sepal_length  sepal_width  petal_length  petal_width    species\n",
       "0             5.1          3.5           1.4          0.2     setosa\n",
       "1             4.9          3.0           1.4          0.2     setosa\n",
       "2             4.7          3.2           1.3          0.2     setosa\n",
       "3             4.6          3.1           1.5          0.2     setosa\n",
       "4             5.0          3.6           1.4          0.2     setosa\n",
       "..            ...          ...           ...          ...        ...\n",
       "145           6.7          3.0           5.2          2.3  virginica\n",
       "146           6.3          2.5           5.0          1.9  virginica\n",
       "147           6.5          3.0           5.2          2.0  virginica\n",
       "148           6.2          3.4           5.4          2.3  virginica\n",
       "149           5.9          3.0           5.1          1.8  virginica\n",
       "\n",
       "[150 rows x 5 columns]"
      ]
     },
     "execution_count": 53,
     "metadata": {},
     "output_type": "execute_result"
    }
   ],
   "source": [
    "df.toPandas()"
   ]
  },
  {
   "cell_type": "code",
   "execution_count": null,
   "metadata": {
    "slideshow": {
     "slide_type": "slide"
    }
   },
   "outputs": [],
   "source": [
    "sc.stop() # Don't forget to close your connection"
   ]
  },
  {
   "cell_type": "markdown",
   "metadata": {
    "slideshow": {
     "slide_type": "slide"
    }
   },
   "source": [
    "# Secret\n",
    "\n",
    "Koalas 🐨\n",
    "\n",
    "- https://medium.com/@vivianamarquez/is-koalas-the-new-pandas-843a0f7b9003\n",
    "- https://github.com/vivianamarquez/ALOBH/blob/master/Demos/Koalas.ipynb"
   ]
  },
  {
   "cell_type": "markdown",
   "metadata": {
    "slideshow": {
     "slide_type": "notes"
    }
   },
   "source": [
    "Mischa: Check this: https://github.com/vivianamarquez/Namremmiz/blob/master/Jupyter%20Notebooks/PySpark%20Code/MasterPySpark.py"
   ]
  }
 ],
 "metadata": {
  "celltoolbar": "Slideshow",
  "kernelspec": {
   "display_name": "conda_python3",
   "language": "python",
   "name": "conda_python3"
  },
  "language_info": {
   "codemirror_mode": {
    "name": "ipython",
    "version": 3
   },
   "file_extension": ".py",
   "mimetype": "text/x-python",
   "name": "python",
   "nbconvert_exporter": "python",
   "pygments_lexer": "ipython3",
   "version": "3.6.10"
  }
 },
 "nbformat": 4,
 "nbformat_minor": 4
}
